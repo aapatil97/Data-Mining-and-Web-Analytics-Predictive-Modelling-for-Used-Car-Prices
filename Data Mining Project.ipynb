{
 "cells": [
  {
   "cell_type": "code",
   "execution_count": 3,
   "id": "7bd0db15",
   "metadata": {},
   "outputs": [
    {
     "data": {
      "text/html": [
       "<div>\n",
       "<style scoped>\n",
       "    .dataframe tbody tr th:only-of-type {\n",
       "        vertical-align: middle;\n",
       "    }\n",
       "\n",
       "    .dataframe tbody tr th {\n",
       "        vertical-align: top;\n",
       "    }\n",
       "\n",
       "    .dataframe thead th {\n",
       "        text-align: right;\n",
       "    }\n",
       "</style>\n",
       "<table border=\"1\" class=\"dataframe\">\n",
       "  <thead>\n",
       "    <tr style=\"text-align: right;\">\n",
       "      <th></th>\n",
       "      <th>Model</th>\n",
       "      <th>Year</th>\n",
       "      <th>Fuel_Type</th>\n",
       "      <th>Transmission</th>\n",
       "      <th>DoorsNum</th>\n",
       "      <th>Condition</th>\n",
       "      <th>Color</th>\n",
       "      <th>Cruise</th>\n",
       "      <th>Leather_Seats</th>\n",
       "      <th>Heated_Seats</th>\n",
       "      <th>...</th>\n",
       "      <th>Price</th>\n",
       "      <th>Cylinder_Numbers</th>\n",
       "      <th>Credit_History</th>\n",
       "      <th>Engine_Size</th>\n",
       "      <th>Weight</th>\n",
       "      <th>carlength</th>\n",
       "      <th>carwidth</th>\n",
       "      <th>monthly_mileage</th>\n",
       "      <th>peakrpm</th>\n",
       "      <th>Estimated_Mileage</th>\n",
       "    </tr>\n",
       "  </thead>\n",
       "  <tbody>\n",
       "    <tr>\n",
       "      <th>0</th>\n",
       "      <td>Nissan Altima</td>\n",
       "      <td>2007</td>\n",
       "      <td>Petrol</td>\n",
       "      <td>Manual</td>\n",
       "      <td>4.0</td>\n",
       "      <td>Fair</td>\n",
       "      <td>Brown</td>\n",
       "      <td>No</td>\n",
       "      <td>No</td>\n",
       "      <td>No</td>\n",
       "      <td>...</td>\n",
       "      <td>8005.469674</td>\n",
       "      <td>two</td>\n",
       "      <td>0.004967</td>\n",
       "      <td>1.655688</td>\n",
       "      <td>3170.460434</td>\n",
       "      <td>179.1</td>\n",
       "      <td>68.1</td>\n",
       "      <td>3020.474750</td>\n",
       "      <td>6000</td>\n",
       "      <td>36245.697</td>\n",
       "    </tr>\n",
       "    <tr>\n",
       "      <th>1</th>\n",
       "      <td>Toyota Corolla</td>\n",
       "      <td>2019</td>\n",
       "      <td>Electric</td>\n",
       "      <td>Manual</td>\n",
       "      <td>4.0</td>\n",
       "      <td>Excellent</td>\n",
       "      <td>Beige</td>\n",
       "      <td>Yes</td>\n",
       "      <td>No</td>\n",
       "      <td>Yes</td>\n",
       "      <td>...</td>\n",
       "      <td>25385.241860</td>\n",
       "      <td>two</td>\n",
       "      <td>-0.001383</td>\n",
       "      <td>2.696626</td>\n",
       "      <td>3543.00629</td>\n",
       "      <td>182.1</td>\n",
       "      <td>60.0</td>\n",
       "      <td>894.742606</td>\n",
       "      <td>4689</td>\n",
       "      <td>10736.91127</td>\n",
       "    </tr>\n",
       "    <tr>\n",
       "      <th>2</th>\n",
       "      <td>Honda CR-V</td>\n",
       "      <td>2004</td>\n",
       "      <td>Petrol</td>\n",
       "      <td>Manual</td>\n",
       "      <td>4.0</td>\n",
       "      <td>Fair</td>\n",
       "      <td>Brown</td>\n",
       "      <td>No</td>\n",
       "      <td>No</td>\n",
       "      <td>No</td>\n",
       "      <td>...</td>\n",
       "      <td>6553.601733</td>\n",
       "      <td>three</td>\n",
       "      <td>0.006477</td>\n",
       "      <td>1.642471</td>\n",
       "      <td>3125.542396</td>\n",
       "      <td>161.0</td>\n",
       "      <td>67.5</td>\n",
       "      <td>3496.160436</td>\n",
       "      <td>5190</td>\n",
       "      <td>41953.92523</td>\n",
       "    </tr>\n",
       "    <tr>\n",
       "      <th>3</th>\n",
       "      <td>Toyota Corolla</td>\n",
       "      <td>2020</td>\n",
       "      <td>Electric</td>\n",
       "      <td>Manual</td>\n",
       "      <td>4.0</td>\n",
       "      <td>Good</td>\n",
       "      <td>Brown</td>\n",
       "      <td>Yes</td>\n",
       "      <td>Yes</td>\n",
       "      <td>Yes</td>\n",
       "      <td>...</td>\n",
       "      <td>24381.083350</td>\n",
       "      <td>three</td>\n",
       "      <td>0.015230</td>\n",
       "      <td>2.044309</td>\n",
       "      <td>3340.060049</td>\n",
       "      <td>169.7</td>\n",
       "      <td>65.2</td>\n",
       "      <td>1037.247974</td>\n",
       "      <td>5720</td>\n",
       "      <td>12446.97569</td>\n",
       "    </tr>\n",
       "    <tr>\n",
       "      <th>4</th>\n",
       "      <td>Toyota Tundra</td>\n",
       "      <td>2017</td>\n",
       "      <td>Hybrid</td>\n",
       "      <td>Automatic</td>\n",
       "      <td>4.0</td>\n",
       "      <td>Good</td>\n",
       "      <td>Brown</td>\n",
       "      <td>Yes</td>\n",
       "      <td>No</td>\n",
       "      <td>No</td>\n",
       "      <td>...</td>\n",
       "      <td>28357.830640</td>\n",
       "      <td>five</td>\n",
       "      <td>-0.002342</td>\n",
       "      <td>2.586011</td>\n",
       "      <td>3847.825597</td>\n",
       "      <td>176.0</td>\n",
       "      <td>68.1</td>\n",
       "      <td>880.045753</td>\n",
       "      <td>4559</td>\n",
       "      <td>10560.54904</td>\n",
       "    </tr>\n",
       "  </tbody>\n",
       "</table>\n",
       "<p>5 rows × 32 columns</p>\n",
       "</div>"
      ],
      "text/plain": [
       "            Model  Year Fuel_Type Transmission  DoorsNum  Condition  Color  \\\n",
       "0   Nissan Altima  2007    Petrol       Manual       4.0       Fair  Brown   \n",
       "1  Toyota Corolla  2019  Electric       Manual       4.0  Excellent  Beige   \n",
       "2      Honda CR-V  2004    Petrol       Manual       4.0       Fair  Brown   \n",
       "3  Toyota Corolla  2020  Electric       Manual       4.0       Good  Brown   \n",
       "4   Toyota Tundra  2017    Hybrid    Automatic       4.0       Good  Brown   \n",
       "\n",
       "  Cruise Leather_Seats Heated_Seats  ...         Price  Cylinder_Numbers  \\\n",
       "0     No            No           No  ...   8005.469674               two   \n",
       "1    Yes            No          Yes  ...  25385.241860               two   \n",
       "2     No            No           No  ...   6553.601733             three   \n",
       "3    Yes           Yes          Yes  ...  24381.083350             three   \n",
       "4    Yes            No           No  ...  28357.830640              five   \n",
       "\n",
       "  Credit_History Engine_Size       Weight carlength carwidth monthly_mileage  \\\n",
       "0       0.004967    1.655688  3170.460434     179.1     68.1     3020.474750   \n",
       "1      -0.001383    2.696626   3543.00629     182.1     60.0      894.742606   \n",
       "2       0.006477    1.642471  3125.542396     161.0     67.5     3496.160436   \n",
       "3       0.015230    2.044309  3340.060049     169.7     65.2     1037.247974   \n",
       "4      -0.002342    2.586011  3847.825597     176.0     68.1      880.045753   \n",
       "\n",
       "  peakrpm Estimated_Mileage  \n",
       "0    6000         36245.697  \n",
       "1    4689       10736.91127  \n",
       "2    5190       41953.92523  \n",
       "3    5720       12446.97569  \n",
       "4    4559       10560.54904  \n",
       "\n",
       "[5 rows x 32 columns]"
      ]
     },
     "execution_count": 3,
     "metadata": {},
     "output_type": "execute_result"
    }
   ],
   "source": [
    "import pandas as pd\n",
    "cars_data = pd.read_csv('Car_price_2024.csv')\n",
    "cars_data.head()"
   ]
  },
  {
   "cell_type": "code",
   "execution_count": 4,
   "id": "15025b71",
   "metadata": {},
   "outputs": [
    {
     "name": "stdout",
     "output_type": "stream",
     "text": [
      "<class 'pandas.core.frame.DataFrame'>\n",
      "RangeIndex: 2230 entries, 0 to 2229\n",
      "Data columns (total 32 columns):\n",
      " #   Column             Non-Null Count  Dtype  \n",
      "---  ------             --------------  -----  \n",
      " 0   Model              2230 non-null   object \n",
      " 1   Year               2230 non-null   int64  \n",
      " 2   Fuel_Type          2227 non-null   object \n",
      " 3   Transmission       2223 non-null   object \n",
      " 4   DoorsNum           2223 non-null   float64\n",
      " 5   Condition          2230 non-null   object \n",
      " 6   Color              2228 non-null   object \n",
      " 7   Cruise             2230 non-null   object \n",
      " 8   Leather_Seats      2230 non-null   object \n",
      " 9   Heated_Seats       2230 non-null   object \n",
      " 10  Navigation         2230 non-null   object \n",
      " 11  Owners             2230 non-null   int64  \n",
      " 12  Insurance          2230 non-null   object \n",
      " 13  Service_History    2230 non-null   object \n",
      " 14  Safety             2230 non-null   object \n",
      " 15  Premium_Sound      2230 non-null   object \n",
      " 16  Multimedia         2230 non-null   object \n",
      " 17  Bluetooth          2230 non-null   object \n",
      " 18  Wheel              2230 non-null   object \n",
      " 19  Sunroof            2230 non-null   object \n",
      " 20  Warranty           2230 non-null   int64  \n",
      " 21  TAge               2230 non-null   object \n",
      " 22  Price              2230 non-null   float64\n",
      " 23  Cylinder_Numbers   2230 non-null   object \n",
      " 24  Credit_History     2230 non-null   float64\n",
      " 25  Engine_Size        2230 non-null   float64\n",
      " 26  Weight             2229 non-null   object \n",
      " 27  carlength          2230 non-null   float64\n",
      " 28  carwidth           2230 non-null   float64\n",
      " 29  monthly_mileage    2230 non-null   float64\n",
      " 30  peakrpm            2230 non-null   int64  \n",
      " 31  Estimated_Mileage  2230 non-null   object \n",
      "dtypes: float64(7), int64(4), object(21)\n",
      "memory usage: 557.6+ KB\n"
     ]
    }
   ],
   "source": [
    "cars_data.info()"
   ]
  },
  {
   "cell_type": "code",
   "execution_count": 5,
   "id": "18946a92",
   "metadata": {},
   "outputs": [
    {
     "data": {
      "text/plain": [
       "Model                2230\n",
       "Year                 2230\n",
       "Fuel_Type            2230\n",
       "Transmission         2230\n",
       "DoorsNum             2230\n",
       "Condition            2230\n",
       "Color                2230\n",
       "Cruise               2230\n",
       "Leather_Seats        2230\n",
       "Heated_Seats         2230\n",
       "Navigation           2230\n",
       "Owners               2230\n",
       "Insurance            2230\n",
       "Service_History      2230\n",
       "Safety               2230\n",
       "Premium_Sound        2230\n",
       "Multimedia           2230\n",
       "Bluetooth            2230\n",
       "Wheel                2230\n",
       "Sunroof              2230\n",
       "Warranty             2230\n",
       "TAge                 2230\n",
       "Price                2230\n",
       "Cylinder_Numbers     2230\n",
       "Credit_History       2230\n",
       "Engine_Size          2230\n",
       "Weight               2230\n",
       "carlength            2230\n",
       "carwidth             2230\n",
       "monthly_mileage      2230\n",
       "peakrpm              2230\n",
       "Estimated_Mileage    2230\n",
       "dtype: int64"
      ]
     },
     "execution_count": 5,
     "metadata": {},
     "output_type": "execute_result"
    }
   ],
   "source": [
    "cars_data.isnull().count()"
   ]
  },
  {
   "cell_type": "markdown",
   "id": "6dea6c76",
   "metadata": {},
   "source": [
    "## Feature selection\n"
   ]
  },
  {
   "cell_type": "code",
   "execution_count": 6,
   "id": "952a3fc1",
   "metadata": {},
   "outputs": [
    {
     "data": {
      "text/plain": [
       "(3014938.7863628115,\n",
       "                             Feature  Importance\n",
       " 0                   monthly_mileage    0.938227\n",
       " 1              Cylinder_Numbers_six    0.006918\n",
       " 2                       Engine_Size    0.005797\n",
       " 3                      Color_Silver    0.004992\n",
       " 4                            Owners    0.004287\n",
       " 5               Insurance_Collision    0.002294\n",
       " 6                          carwidth    0.001795\n",
       " 7                              Year    0.001792\n",
       " 8                           peakrpm    0.001767\n",
       " 9                    Credit_History    0.001700\n",
       " 10                        carlength    0.001485\n",
       " 11     Service_History_Full Service    0.001412\n",
       " 12                    Safety_1 star    0.001307\n",
       " 13                         Warranty    0.001204\n",
       " 14                   Safety_5 stars    0.001063\n",
       " 15         Safety_Not rated/Unknown    0.001004\n",
       " 16                 Fuel_Type_Petrol    0.000871\n",
       " 17                 Leather_Seats_No    0.000784\n",
       " 18  Service_History_Partial Service    0.000741\n",
       " 19           Insurance_No insurance    0.000737)"
      ]
     },
     "execution_count": 6,
     "metadata": {},
     "output_type": "execute_result"
    }
   ],
   "source": [
    "from sklearn.model_selection import train_test_split\n",
    "from sklearn.preprocessing import StandardScaler, OneHotEncoder\n",
    "from sklearn.compose import ColumnTransformer\n",
    "from sklearn.pipeline import Pipeline\n",
    "from sklearn.ensemble import RandomForestRegressor\n",
    "from sklearn.impute import SimpleImputer\n",
    "from sklearn.metrics import mean_squared_error\n",
    "\n",
    "# Separate the target variable (Price) and predictors\n",
    "X = cars_data.drop('Price', axis=1)\n",
    "y = cars_data['Price']\n",
    "\n",
    "# Identifying numerical and categorical columns\n",
    "numerical_cols = X.select_dtypes(include=['int64', 'float64']).columns\n",
    "categorical_cols = X.select_dtypes(include=['object']).columns\n",
    "\n",
    "# Preprocessing for numerical data: impute missing values and scale features\n",
    "numerical_transformer = Pipeline(steps=[\n",
    "    ('imputer', SimpleImputer(strategy='mean')),\n",
    "    ('scaler', StandardScaler())\n",
    "])\n",
    "\n",
    "# Preprocessing for categorical data: impute missing values and apply one-hot encoding\n",
    "categorical_transformer = Pipeline(steps=[\n",
    "    ('imputer', SimpleImputer(strategy='most_frequent')),\n",
    "    ('onehot', OneHotEncoder(handle_unknown='ignore'))\n",
    "])\n",
    "\n",
    "# Bundle preprocessing for numerical and categorical data\n",
    "preprocessor = ColumnTransformer(\n",
    "    transformers=[\n",
    "        ('num', numerical_transformer, numerical_cols),\n",
    "        ('cat', categorical_transformer, categorical_cols)\n",
    "    ])\n",
    "\n",
    "# Define the model\n",
    "model = RandomForestRegressor(n_estimators=100, random_state=0)\n",
    "\n",
    "# Bundle preprocessing and modeling code in a pipeline\n",
    "clf = Pipeline(steps=[('preprocessor', preprocessor),\n",
    "                      ('model', model)])\n",
    "\n",
    "# Split data into training and validation sets\n",
    "X_train, X_test, y_train, y_test = train_test_split(X, y, test_size=0.2, random_state=0)\n",
    "\n",
    "# Preprocessing of training data, fit model\n",
    "clf.fit(X_train, y_train)\n",
    "\n",
    "# Get predictions and calculate mean squared error\n",
    "predictions = clf.predict(X_test)\n",
    "mse = mean_squared_error(y_test, predictions)\n",
    "\n",
    "# Feature importances\n",
    "feature_importances = clf.named_steps['model'].feature_importances_\n",
    "\n",
    "# Get feature names after preprocessing\n",
    "ohe_columns = list(clf.named_steps['preprocessor'].named_transformers_['cat'].named_steps['onehot'].get_feature_names_out(input_features=categorical_cols))\n",
    "feature_names = numerical_cols.tolist() + ohe_columns\n",
    "\n",
    "# Create a DataFrame for feature importances\n",
    "feature_importance_df = pd.DataFrame({'Feature': feature_names, 'Importance': feature_importances})\n",
    "\n",
    "# Sort the DataFrame by importance\n",
    "sorted_feature_importance = feature_importance_df.sort_values(by='Importance', ascending=False).reset_index(drop=True)\n",
    "\n",
    "mse, sorted_feature_importance.head(20)\n"
   ]
  },
  {
   "cell_type": "markdown",
   "id": "c6a99097",
   "metadata": {},
   "source": [
    "## Dimensions of the dataset\n"
   ]
  },
  {
   "cell_type": "code",
   "execution_count": 9,
   "id": "6187f505",
   "metadata": {},
   "outputs": [
    {
     "data": {
      "text/plain": [
       "(2230, 32)"
      ]
     },
     "execution_count": 9,
     "metadata": {},
     "output_type": "execute_result"
    }
   ],
   "source": [
    "# Dimensions of the dataset\n",
    "dataset_dimensions = cars_data.shape\n",
    "dataset_dimensions\n"
   ]
  },
  {
   "cell_type": "markdown",
   "id": "409ff3a4",
   "metadata": {},
   "source": [
    "## Uni-variate visualization"
   ]
  },
  {
   "cell_type": "code",
   "execution_count": 10,
   "id": "44f31482",
   "metadata": {},
   "outputs": [
    {
     "data": {
      "text/plain": [
       "Text(0, 0.5, 'Frequency')"
      ]
     },
     "execution_count": 10,
     "metadata": {},
     "output_type": "execute_result"
    },
    {
     "data": {
      "image/png": "[encoded data removed]",
      "text/plain": [
       "<Figure size 1000x600 with 1 Axes>"
      ]
     },
     "metadata": {},
     "output_type": "display_data"
    }
   ],
   "source": [
    "import matplotlib.pyplot as plt\n",
    "import seaborn as sns\n",
    "\n",
    "# Setting seaborn style\n",
    "sns.set(style=\"whitegrid\")\n",
    "\n",
    "# Uni-variate visualization of the Price variable\n",
    "plt.figure(figsize=(10, 6))\n",
    "sns.histplot(cars_data['Price'], kde=True, bins=30, color='blue')\n",
    "plt.title('Distribution of Car Prices')\n",
    "plt.xlabel('Price')\n",
    "plt.ylabel('Frequency')\n"
   ]
  },
  {
   "cell_type": "markdown",
   "id": "257b88fe",
   "metadata": {},
   "source": [
    "## Measure of centrality and spread"
   ]
  },
  {
   "cell_type": "code",
   "execution_count": 11,
   "id": "985dddb4",
   "metadata": {},
   "outputs": [
    {
     "data": {
      "text/plain": [
       "(17241.51104836547, 17393.385485, 8961.471366791226)"
      ]
     },
     "execution_count": 11,
     "metadata": {},
     "output_type": "execute_result"
    }
   ],
   "source": [
    "# Display measures of centrality and spread\n",
    "price_mean = cars_data['Price'].mean()\n",
    "price_median = cars_data['Price'].median()\n",
    "price_std = cars_data['Price'].std()\n",
    "\n",
    "price_mean, price_median, price_std"
   ]
  },
  {
   "cell_type": "markdown",
   "id": "cc7ded18",
   "metadata": {},
   "source": [
    "## Bi-variate visualization"
   ]
  },
  {
   "cell_type": "code",
   "execution_count": 12,
   "id": "7b4e208f",
   "metadata": {},
   "outputs": [
    {
     "data": {
      "image/png": "[encoded data removed]",
      "text/plain": [
       "<Figure size 1800x600 with 2 Axes>"
      ]
     },
     "metadata": {},
     "output_type": "display_data"
    }
   ],
   "source": [
    "fig, ax = plt.subplots(1, 2, figsize=(18, 6))\n",
    "\n",
    "# Price vs Monthly Mileage\n",
    "sns.scatterplot(x=cars_data['monthly_mileage'], y=cars_data['Price'], ax=ax[0], color='green')\n",
    "ax[0].set_title('Price vs Monthly Mileage')\n",
    "ax[0].set_xlabel('Monthly Mileage')\n",
    "ax[0].set_ylabel('Price')\n",
    "\n",
    "# Price vs Engine Size\n",
    "sns.scatterplot(x=cars_data['Engine_Size'], y=cars_data['Price'], ax=ax[1], color='red')\n",
    "ax[1].set_title('Price vs Engine Size')\n",
    "ax[1].set_xlabel('Engine Size')\n",
    "ax[1].set_ylabel('Price')\n",
    "\n",
    "plt.tight_layout()\n",
    "plt.show()\n"
   ]
  },
  {
   "cell_type": "markdown",
   "id": "46189e7d",
   "metadata": {},
   "source": [
    "## Missing values"
   ]
  },
  {
   "cell_type": "code",
   "execution_count": 13,
   "id": "335372df",
   "metadata": {},
   "outputs": [
    {
     "data": {
      "text/plain": [
       "Color    2\n",
       "dtype: int64"
      ]
     },
     "execution_count": 13,
     "metadata": {},
     "output_type": "execute_result"
    }
   ],
   "source": [
    "# Checking for missing values in the specified variables\n",
    "specified_variables = ['monthly_mileage', 'Cylinder_Numbers', 'Engine_Size', 'Owners', 'Year', 'peakrpm', \n",
    "                       'Color', 'Insurance', 'carwidth', 'Credit_History']\n",
    "missing_values = cars_data[specified_variables].isnull().sum()\n",
    "\n",
    "# Treating missing values - We will use simple imputation where necessary\n",
    "# For numerical variables, we use the mean. For categorical variables, we use the mode (most frequent value)\n",
    "# Note: We previously identified Cylinder_Numbers and Color as important, and we are treating Color as a categorical variable with \"Silver\" being of specific interest\n",
    "\n",
    "# Imputing missing values (for demonstration, assuming this is required based on the output above)\n",
    "# We'll only apply imputation if there are indeed missing values to be addressed\n",
    "\n",
    "missing_values_summary = missing_values[missing_values > 0]\n",
    "\n",
    "missing_values_summary\n"
   ]
  },
  {
   "cell_type": "code",
   "execution_count": 14,
   "id": "ef759abb",
   "metadata": {},
   "outputs": [
    {
     "data": {
      "text/plain": [
       "0"
      ]
     },
     "execution_count": 14,
     "metadata": {},
     "output_type": "execute_result"
    }
   ],
   "source": [
    "# Since 'Color' is the only variable with missing values, we impute these with the most frequent value\n",
    "most_frequent_color = cars_data['Color'].mode()[0]\n",
    "\n",
    "# Imputing missing values with the most frequent color\n",
    "cars_data['Color'].fillna(most_frequent_color, inplace=True)\n",
    "\n",
    "# Re-checking for missing values in 'Color' to confirm the treatment\n",
    "missing_values_after = cars_data['Color'].isnull().sum()\n",
    "missing_values_after"
   ]
  },
  {
   "cell_type": "markdown",
   "id": "489cc1a8",
   "metadata": {},
   "source": [
    "## Outliers"
   ]
  },
  {
   "cell_type": "code",
   "execution_count": 15,
   "id": "dbb6cb07",
   "metadata": {},
   "outputs": [
    {
     "data": {
      "text/plain": [
       "({'monthly_mileage': 0,\n",
       "  'Engine_Size': 22,\n",
       "  'Owners': 199,\n",
       "  'Year': 0,\n",
       "  'peakrpm': 0,\n",
       "  'carwidth': 0,\n",
       "  'Credit_History': 20},\n",
       "                  Lower Bound  Upper Bound\n",
       " monthly_mileage -1619.633390  5676.918901\n",
       " Engine_Size         1.219715     3.354398\n",
       " Owners              0.500000     4.500000\n",
       " Year             1991.500000  2027.500000\n",
       " peakrpm          2849.625000  7840.625000\n",
       " carwidth           53.050000    79.850000\n",
       " Credit_History     -0.025668     0.026165)"
      ]
     },
     "execution_count": 15,
     "metadata": {},
     "output_type": "execute_result"
    }
   ],
   "source": [
    "# Identifying outliers using the IQR method for the numerical variables\n",
    "numerical_variables = ['monthly_mileage', 'Engine_Size', 'Owners', 'Year', 'peakrpm', 'carwidth', 'Credit_History']\n",
    "\n",
    "# Calculating Q1, Q3, and IQR for each numerical variable\n",
    "Q1 = cars_data[numerical_variables].quantile(0.25)\n",
    "Q3 = cars_data[numerical_variables].quantile(0.75)\n",
    "IQR = Q3 - Q1\n",
    "\n",
    "# Defining outliers as those beyond 1.5 times the IQR from the quartiles\n",
    "outlier_bounds = pd.concat([Q1 - 1.5 * IQR, Q3 + 1.5 * IQR], axis=1, keys=['Lower Bound', 'Upper Bound'])\n",
    "\n",
    "# Counting outliers for each numerical variable\n",
    "outlier_counts = {}\n",
    "for variable in numerical_variables:\n",
    "    outliers = cars_data[(cars_data[variable] < (Q1[variable] - 1.5 * IQR[variable])) | \n",
    "                          (cars_data[variable] > (Q3[variable] + 1.5 * IQR[variable]))]\n",
    "    outlier_counts[variable] = len(outliers)\n",
    "\n",
    "outlier_counts, outlier_bounds\n"
   ]
  },
  {
   "cell_type": "markdown",
   "id": "b66cc249",
   "metadata": {},
   "source": [
    "## Handling errors in Owners, Engine size and Credit History column"
   ]
  },
  {
   "cell_type": "code",
   "execution_count": 16,
   "id": "8747e753",
   "metadata": {},
   "outputs": [
    {
     "data": {
      "text/plain": [
       "(11, (0.5, 4.5))"
      ]
     },
     "execution_count": 16,
     "metadata": {},
     "output_type": "execute_result"
    }
   ],
   "source": [
    "# Correcting the values in the 'Owners' column again, just to ensure it's done correctly\n",
    "cars_data['Owners'] = cars_data['Owners'].replace({22: 2, 44: 4})\n",
    "\n",
    "# Recalculating Q1, Q3, and IQR for 'Owners'\n",
    "Q1_owners_corrected = cars_data['Owners'].quantile(0.25)\n",
    "Q3_owners_corrected = cars_data['Owners'].quantile(0.75)\n",
    "IQR_owners_corrected = Q3_owners_corrected - Q1_owners_corrected\n",
    "\n",
    "# Identifying outliers for 'Owners' after correction\n",
    "outliers_owners_corrected = cars_data[(cars_data['Owners'] < (Q1_owners_corrected - 1.5 * IQR_owners_corrected)) | \n",
    "                                      (cars_data['Owners'] > (Q3_owners_corrected + 1.5 * IQR_owners_corrected))]\n",
    "\n",
    "# Counting outliers after correction\n",
    "outlier_count_owners_after_correction_corrected = len(outliers_owners_corrected)\n",
    "\n",
    "# Bounds for 'Owners' after correction\n",
    "lower_bound_owners_corrected, upper_bound_owners_corrected = Q1_owners_corrected - 1.5 * IQR_owners_corrected, Q3_owners_corrected + 1.5 * IQR_owners_corrected\n",
    "\n",
    "outlier_count_owners_after_correction_corrected, (lower_bound_owners_corrected, upper_bound_owners_corrected)\n"
   ]
  },
  {
   "cell_type": "code",
   "execution_count": 17,
   "id": "351b61e4",
   "metadata": {},
   "outputs": [
    {
     "data": {
      "text/plain": [
       "{'Engine_Size': 0, 'Credit_History': 0}"
      ]
     },
     "execution_count": 17,
     "metadata": {},
     "output_type": "execute_result"
    }
   ],
   "source": [
    "# Treating outliers for 'Engine Size' and 'Credit History' by capping and flooring\n",
    "for variable in ['Engine_Size', 'Credit_History']:\n",
    "    lower_bound, upper_bound = outlier_bounds.loc[variable, 'Lower Bound'], outlier_bounds.loc[variable, 'Upper Bound']\n",
    "    cars_data[variable] = cars_data[variable].clip(lower=lower_bound, upper=upper_bound)\n",
    "\n",
    "# Rechecking outlier counts after treatment for verification\n",
    "rechecked_outlier_counts = {}\n",
    "for variable in ['Engine_Size', 'Credit_History']:\n",
    "    outliers_after_treatment = cars_data[(cars_data[variable] < (Q1[variable] - 1.5 * IQR[variable])) | \n",
    "                                          (cars_data[variable] > (Q3[variable] + 1.5 * IQR[variable]))]\n",
    "    rechecked_outlier_counts[variable] = len(outliers_after_treatment)\n",
    "\n",
    "rechecked_outlier_counts\n"
   ]
  },
  {
   "cell_type": "markdown",
   "id": "84c26ddb",
   "metadata": {},
   "source": [
    "## Missing Values"
   ]
  },
  {
   "cell_type": "code",
   "execution_count": 19,
   "id": "56bef2ab",
   "metadata": {},
   "outputs": [
    {
     "data": {
      "text/plain": [
       "Fuel_Type       3\n",
       "Transmission    7\n",
       "DoorsNum        7\n",
       "Weight          1\n",
       "dtype: int64"
      ]
     },
     "execution_count": 19,
     "metadata": {},
     "output_type": "execute_result"
    }
   ],
   "source": [
    "# Checking for any remaining missing values in the entire dataset after the treatments\n",
    "remaining_missing_values = cars_data.isnull().sum()\n",
    "\n",
    "# Filtering out columns with missing values if any exist\n",
    "remaining_missing_values_summary = remaining_missing_values[remaining_missing_values > 0]\n",
    "\n",
    "remaining_missing_values_summary\n"
   ]
  },
  {
   "cell_type": "code",
   "execution_count": 20,
   "id": "642a40da",
   "metadata": {},
   "outputs": [
    {
     "data": {
      "text/plain": [
       "0"
      ]
     },
     "execution_count": 20,
     "metadata": {},
     "output_type": "execute_result"
    }
   ],
   "source": [
    "# Filling missing values for numerical variables with their median\n",
    "for column in numerical_cols:\n",
    "    if column in cars_data.columns:  # Ensure the column exists in the current dataset\n",
    "        cars_data[column].fillna(cars_data[column].median(), inplace=True)\n",
    "\n",
    "# Filling missing values for categorical variables with their mode (most frequent value)\n",
    "for column in categorical_cols:\n",
    "    if column in cars_data.columns:  # Ensure the column exists in the current dataset\n",
    "        cars_data[column].fillna(cars_data[column].mode()[0], inplace=True)\n",
    "\n",
    "# Re-checking for any remaining missing values after filling\n",
    "remaining_missing_values_after_filling = cars_data.isnull().sum().sum()\n",
    "\n",
    "remaining_missing_values_after_filling\n"
   ]
  },
  {
   "cell_type": "code",
   "execution_count": 23,
   "id": "b5575b23",
   "metadata": {},
   "outputs": [],
   "source": [
    "# Assuming 'cars_data' is your updated DataFrame\n",
    "cars_data.to_csv('Updated_Car_price_2024.csv', index=False)\n"
   ]
  },
  {
   "cell_type": "markdown",
   "id": "3ef9f7c2",
   "metadata": {},
   "source": [
    "## Saving the dataset"
   ]
  },
  {
   "cell_type": "code",
   "execution_count": 25,
   "id": "35b3c59b",
   "metadata": {},
   "outputs": [
    {
     "data": {
      "text/plain": [
       "'C:/Users/Gaurav/Desktop/Corrected_Car_price_2024.csv'"
      ]
     },
     "execution_count": 25,
     "metadata": {},
     "output_type": "execute_result"
    }
   ],
   "source": [
    "# Saving the updated dataset to a CSV file\n",
    "updated_data_path = 'C:/Users/Gaurav/Desktop/Corrected_Car_price_2024.csv'\n",
    "cars_data.to_csv(updated_data_path, index=False)\n",
    "\n",
    "# Providing the file path for download\n",
    "updated_data_path\n"
   ]
  },
  {
   "cell_type": "code",
   "execution_count": 27,
   "id": "9b73c846",
   "metadata": {},
   "outputs": [],
   "source": [
    "#reading new dataset\n",
    "df = pd.read_csv('Corrected_car_price_2024.csv')"
   ]
  },
  {
   "cell_type": "markdown",
   "id": "9f8a3fb5",
   "metadata": {},
   "source": [
    "## Linear Regression Model"
   ]
  },
  {
   "cell_type": "code",
   "execution_count": 23,
   "id": "7caa5776",
   "metadata": {},
   "outputs": [
    {
     "data": {
      "text/plain": [
       "2258.506986812764"
      ]
     },
     "execution_count": 23,
     "metadata": {},
     "output_type": "execute_result"
    }
   ],
   "source": [
    "from sklearn.model_selection import train_test_split\n",
    "from sklearn.preprocessing import StandardScaler, OneHotEncoder\n",
    "from sklearn.compose import ColumnTransformer\n",
    "from sklearn.pipeline import Pipeline\n",
    "from sklearn.linear_model import LinearRegression\n",
    "from sklearn.metrics import mean_squared_error\n",
    "import numpy as np\n",
    "\n",
    "# Selecting the specified variables and the target variable\n",
    "features = ['monthly_mileage', 'Cylinder_Numbers', 'Engine_Size', 'Owners', 'Year', 'peakrpm', \n",
    "            'Color', 'Insurance', 'carwidth', 'Credit_History']\n",
    "target = 'Price'\n",
    "\n",
    "# Preparing the data\n",
    "X = df[features]\n",
    "y = df[target]\n",
    "\n",
    "# Defining numerical and categorical columns\n",
    "num_cols = ['monthly_mileage', 'Engine_Size', 'Owners', 'Year', 'peakrpm', 'carwidth', 'Credit_History']\n",
    "cat_cols = ['Cylinder_Numbers', 'Color', 'Insurance']\n",
    "\n",
    "# Creating the preprocessing pipelines for both numeric and categorical data\n",
    "numeric_transformer = Pipeline(steps=[\n",
    "    ('scaler', StandardScaler())])\n",
    "\n",
    "categorical_transformer = Pipeline(steps=[\n",
    "    ('onehot', OneHotEncoder(handle_unknown='ignore'))])\n",
    "\n",
    "preprocessor = ColumnTransformer(\n",
    "    transformers=[\n",
    "        ('num', numeric_transformer, num_cols),\n",
    "        ('cat', categorical_transformer, cat_cols)])\n",
    "\n",
    "# Splitting the dataset into training and testing sets\n",
    "X_train, X_test, y_train, y_test = train_test_split(X, y, test_size=0.2, random_state=42)\n",
    "\n",
    "# Creating a pipeline that includes the preprocessor and the linear regression model\n",
    "lr_pipeline = Pipeline(steps=[('preprocessor', preprocessor),\n",
    "                              ('linear_regression', LinearRegression())])\n",
    "\n",
    "# Training the model\n",
    "lr_pipeline.fit(X_train, y_train)\n",
    "\n",
    "# Predicting on the test set\n",
    "y_pred = lr_pipeline.predict(X_test)\n",
    "\n",
    "# Calculating RMSE\n",
    "rmse = np.sqrt(mean_squared_error(y_test, y_pred))\n",
    "\n",
    "rmse\n"
   ]
  },
  {
   "cell_type": "markdown",
   "id": "8ad77a7f",
   "metadata": {},
   "source": [
    "## Random Forest Regression"
   ]
  },
  {
   "cell_type": "code",
   "execution_count": 24,
   "id": "c7ae6852",
   "metadata": {},
   "outputs": [
    {
     "data": {
      "text/plain": [
       "(1731.3479729036292, 1235.0799967602466, 0.9581566750375821)"
      ]
     },
     "execution_count": 24,
     "metadata": {},
     "output_type": "execute_result"
    }
   ],
   "source": [
    "from sklearn.ensemble import RandomForestRegressor\n",
    "from sklearn.metrics import mean_absolute_error, r2_score\n",
    "from sklearn.neural_network import MLPRegressor\n",
    "\n",
    "# Setting up the Random Forest Regressor\n",
    "rf_pipeline = Pipeline(steps=[('preprocessor', preprocessor),\n",
    "                              ('random_forest', RandomForestRegressor(random_state=42))])\n",
    "\n",
    "# Training the Random Forest model\n",
    "rf_pipeline.fit(X_train, y_train)\n",
    "\n",
    "# Predicting on the test set with Random Forest\n",
    "y_pred_rf = rf_pipeline.predict(X_test)\n",
    "\n",
    "# Calculating evaluation metrics for Random Forest\n",
    "rmse_rf = np.sqrt(mean_squared_error(y_test, y_pred_rf))\n",
    "mae_rf = mean_absolute_error(y_test, y_pred_rf)\n",
    "r2_rf = r2_score(y_test, y_pred_rf)\n",
    "\n",
    "# Setting up the Artificial Neural Network\n",
    "# ann_pipeline = Pipeline(steps=[('preprocessor', preprocessor),\n",
    "#                                ('mlp', MLPRegressor(hidden_layer_sizes=(64, 64), activation='relu', \n",
    "#                                                     random_state=42, max_iter=500))])\n",
    "\n",
    "# Training the ANN model\n",
    "# ann_pipeline.fit(X_train, y_train)\n",
    "\n",
    "# Predicting on the test set with ANN\n",
    "# y_pred_ann = ann_pipeline.predict(X_test)\n",
    "\n",
    "# Calculating evaluation metrics for ANN\n",
    "# rmse_ann = np.sqrt(mean_squared_error(y_test, y_pred_ann))\n",
    "# mae_ann = mean_absolute_error(y_test, y_pred_ann)\n",
    "# r2_ann = r2_score(y_test, y_pred_ann)\n",
    "\n",
    "(rmse_rf, mae_rf, r2_rf)\n",
    "# , (rmse_ann, mae_ann, r2_ann)\n"
   ]
  },
  {
   "cell_type": "markdown",
   "id": "b3eb954f",
   "metadata": {},
   "source": [
    "## Decision Tree Model"
   ]
  },
  {
   "cell_type": "code",
   "execution_count": 25,
   "id": "ad3b10eb",
   "metadata": {},
   "outputs": [
    {
     "data": {
      "text/plain": [
       "(2416.850197827935, 1703.3245767735425, 0.9184625872389591)"
      ]
     },
     "execution_count": 25,
     "metadata": {},
     "output_type": "execute_result"
    }
   ],
   "source": [
    "from sklearn.tree import DecisionTreeRegressor\n",
    "\n",
    "# Setting up the Decision Tree Regressor\n",
    "dt_pipeline = Pipeline(steps=[('preprocessor', preprocessor),\n",
    "                              ('decision_tree', DecisionTreeRegressor(random_state=42))])\n",
    "\n",
    "# Training the Decision Tree model\n",
    "dt_pipeline.fit(X_train, y_train)\n",
    "\n",
    "# Predicting on the test set with Decision Tree\n",
    "y_pred_dt = dt_pipeline.predict(X_test)\n",
    "\n",
    "# Calculating evaluation metrics for Decision Tree\n",
    "rmse_dt = np.sqrt(mean_squared_error(y_test, y_pred_dt))\n",
    "mae_dt = mean_absolute_error(y_test, y_pred_dt)\n",
    "r2_dt = r2_score(y_test, y_pred_dt)\n",
    "\n",
    "rmse_dt, mae_dt, r2_dt\n"
   ]
  },
  {
   "cell_type": "markdown",
   "id": "f51faff8",
   "metadata": {},
   "source": [
    "## Try to improve RF"
   ]
  },
  {
   "cell_type": "code",
   "execution_count": 26,
   "id": "a89a6cc1",
   "metadata": {},
   "outputs": [
    {
     "data": {
      "text/plain": [
       "({'random_forest__max_depth': 10, 'random_forest__n_estimators': 200},\n",
       " 1911.4993514396256)"
      ]
     },
     "execution_count": 26,
     "metadata": {},
     "output_type": "execute_result"
    }
   ],
   "source": [
    "from sklearn.model_selection import GridSearchCV\n",
    "\n",
    "# Defining a small grid of parameters to search\n",
    "param_grid = {\n",
    "    'random_forest__n_estimators': [100, 200],\n",
    "    'random_forest__max_depth': [None, 10, 20],\n",
    "}\n",
    "\n",
    "# Setting up the grid search\n",
    "grid_search = GridSearchCV(rf_pipeline, param_grid, cv=5, scoring='neg_mean_squared_error', n_jobs=-1)\n",
    "\n",
    "# Performing the grid search on the training data\n",
    "grid_search.fit(X_train, y_train)\n",
    "\n",
    "# Best parameters and RMSE for Random Forest after grid search\n",
    "best_params = grid_search.best_params_\n",
    "best_rmse_rf = np.sqrt(-grid_search.best_score_)\n",
    "\n",
    "best_params, best_rmse_rf\n"
   ]
  },
  {
   "cell_type": "code",
   "execution_count": null,
   "id": "e9ae726a",
   "metadata": {},
   "outputs": [],
   "source": []
  }
 ],
 "metadata": {
  "kernelspec": {
   "display_name": "Python 3 (ipykernel)",
   "language": "python",
   "name": "python3"
  },
  "language_info": {
   "codemirror_mode": {
    "name": "ipython",
    "version": 3
   },
   "file_extension": ".py",
   "mimetype": "text/x-python",
   "name": "python",
   "nbconvert_exporter": "python",
   "pygments_lexer": "ipython3",
   "version": "3.11.3"
  }
 },
 "nbformat": 4,
 "nbformat_minor": 5
}
